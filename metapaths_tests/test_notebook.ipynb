{
 "cells": [
  {
   "cell_type": "code",
   "execution_count": 7,
   "metadata": {},
   "outputs": [
    {
     "name": "stdout",
     "output_type": "stream",
     "text": [
      "Processing (n_source:Gene)-[r1:Gene_Gene]->(n_1:Gene)-[r2:Gene_ADR]-(n_target:ADR)...\n"
     ]
    },
    {
     "name": "stderr",
     "output_type": "stream",
     "text": [
      "1996it [00:06, 320.57it/s]\n"
     ]
    },
    {
     "name": "stdout",
     "output_type": "stream",
     "text": [
      "Processing (n_source:Gene)-[r1:Gene_Disease]-(n_1:Disease)-[r2:Disease_ADR]-(n_target:ADR)...\n"
     ]
    },
    {
     "name": "stderr",
     "output_type": "stream",
     "text": [
      "1996it [00:00, 3252.58it/s]\n"
     ]
    },
    {
     "name": "stdout",
     "output_type": "stream",
     "text": [
      "Processing (n_source:Gene)-[r1:Gene_Gene]->(n_1:Gene)-[r2:Gene_Gene]->(n_2:Gene)-[r3:Gene_ADR]-(n_target:ADR)...\n"
     ]
    },
    {
     "name": "stderr",
     "output_type": "stream",
     "text": [
      "1996it [00:23, 85.06it/s] \n",
      "100%|██████████| 3/3 [00:00<00:00, 851.87it/s]\n"
     ]
    },
    {
     "data": {
      "application/vnd.microsoft.datawrangler.viewer.v0+json": {
       "columns": [
        {
         "name": "index",
         "rawType": "object",
         "type": "string"
        },
        {
         "name": "(n_source:Gene)-[r1:Gene_Gene]->(n_1:Gene)-[r2:Gene_ADR]-(n_target:ADR)",
         "rawType": "float64",
         "type": "float"
        },
        {
         "name": "(n_source:Gene)-[r1:Gene_Disease]-(n_1:Disease)-[r2:Disease_ADR]-(n_target:ADR)",
         "rawType": "float64",
         "type": "float"
        },
        {
         "name": "(n_source:Gene)-[r1:Gene_Gene]->(n_1:Gene)-[r2:Gene_Gene]->(n_2:Gene)-[r3:Gene_ADR]-(n_target:ADR)",
         "rawType": "float64",
         "type": "float"
        }
       ],
       "conversionMethod": "pd.DataFrame",
       "ref": "e25ef139-1b23-4725-ad70-78e2f1879251",
       "rows": [
        [
         "Gene::5881_ADR::10030875",
         "8.087177835327864",
         "0.0",
         "150.56974033446159"
        ],
        [
         "Gene::3815_ADR::10013971",
         "0.0",
         "0.0",
         "150.8383752319586"
        ],
        [
         "Gene::5465_ADR::10016807",
         "6.103363517582246",
         "0.0",
         "202.8105495796921"
        ],
        [
         "Gene::3274_ADR::10029282",
         "12.736068870378402",
         "0.0",
         "389.0472682636106"
        ],
        [
         "Gene::4988_ADR::10047281",
         "8.631459462657972",
         "0.0",
         "322.75892354931466"
        ],
        [
         "Gene::627_ADR::10038695",
         "8.684225350545882",
         "0.0",
         "129.1807858637305"
        ],
        [
         "Gene::1633_ADR::10053156",
         "0.0",
         "0.0",
         "117.37601580461698"
        ],
        [
         "Gene::3350_ADR::10024264",
         "11.803316880233018",
         "0.0",
         "332.2356299624671"
        ],
        [
         "Gene::3156_ADR::10050551",
         "13.307639594835761",
         "0.0",
         "101.89996478079124"
        ],
        [
         "Gene::147_ADR::10020772",
         "14.716064940596995",
         "0.0",
         "475.21292148650787"
        ],
        [
         "Gene::3358_ADR::10047281",
         "13.057786180237995",
         "0.0",
         "290.8721075043843"
        ],
        [
         "Gene::3576_ADR::10033139",
         "7.611994887063149",
         "0.0",
         "207.7984749616596"
        ],
        [
         "Gene::146_ADR::10036661",
         "16.59065994705511",
         "0.0",
         "427.7711428696191"
        ],
        [
         "Gene::59340_ADR::10027339",
         "11.418347594864098",
         "0.0",
         "400.5586928462494"
        ],
        [
         "Gene::23411_ADR::10028653",
         "8.46340278509936",
         "0.0",
         "173.78532550181828"
        ],
        [
         "Gene::2903_ADR::10029350",
         "18.754495833483485",
         "0.0",
         "219.04274975083655"
        ],
        [
         "Gene::3576_ADR::10043561",
         "8.581907556210952",
         "0.0",
         "218.54893336076702"
        ],
        [
         "Gene::1636_ADR::10048216",
         "0.0",
         "0.0",
         "61.16336665830471"
        ],
        [
         "Gene::147_ADR::10034023",
         "14.930146114499681",
         "0.0",
         "376.2777288666788"
        ],
        [
         "Gene::627_ADR::10040477",
         "12.357543735123382",
         "0.0",
         "207.47729411835536"
        ],
        [
         "Gene::4023_ADR::10012607",
         "5.628365797547078",
         "0.0",
         "151.43387683546084"
        ],
        [
         "Gene::1814_ADR::10047302",
         "15.631193795253754",
         "0.0",
         "486.7866881288721"
        ],
        [
         "Gene::6323_ADR::10044565",
         "0.0",
         "0.0",
         "199.99887639822796"
        ],
        [
         "Gene::2475_ADR::10020603",
         "0.0",
         "0.0",
         "133.16213302722355"
        ],
        [
         "Gene::152_ADR::10040477",
         "12.947189193986958",
         "0.0",
         "414.76592962807916"
        ],
        [
         "Gene::1580_ADR::10040865",
         "0.0",
         "0.0",
         "0.0"
        ],
        [
         "Gene::3357_ADR::10000389",
         "12.040952794093853",
         "0.0",
         "337.7183383113531"
        ],
        [
         "Gene::1956_ADR::10012174",
         "11.297680876259456",
         "0.0",
         "474.9744301273378"
        ],
        [
         "Gene::6323_ADR::10040026",
         "0.0",
         "0.0",
         "50.11334356545419"
        ],
        [
         "Gene::152_ADR::10040560",
         "12.357543735123382",
         "0.0",
         "395.6423274733335"
        ],
        [
         "Gene::7066_ADR::10061169",
         "11.297680876259456",
         "0.0",
         "182.40541988761106"
        ],
        [
         "Gene::147_ADR::10028330",
         "14.930146114499681",
         "0.0",
         "451.4936700251648"
        ],
        [
         "Gene::3952_ADR::10021021",
         "4.315729731328986",
         "0.0",
         "117.66755813444152"
        ],
        [
         "Gene::153_ADR::10029458",
         "0.0",
         "0.0",
         "80.30075065169555"
        ],
        [
         "Gene::1813_ADR::10001928",
         "12.947189193986958",
         "0.0",
         "419.27030710882144"
        ],
        [
         "Gene::3752_ADR::10006240",
         "0.0",
         "0.0",
         "74.53744293827896"
        ],
        [
         "Gene::4988_ADR::10021333",
         "14.313656215399565",
         "0.0",
         "491.61811408042195"
        ],
        [
         "Gene::5159_ADR::10071066",
         "14.958508821154998",
         "0.0",
         "321.6647947232027"
        ],
        [
         "Gene::1133_ADR::10013781",
         "14.750123304841013",
         "0.0",
         "427.6979301787619"
        ],
        [
         "Gene::3558_ADR::10016807",
         "8.453448242090689",
         "0.0",
         "290.7728506376707"
        ],
        [
         "Gene::1128_ADR::10001928",
         "13.880741991520951",
         "0.0",
         "363.1526212172472"
        ],
        [
         "Gene::3932_ADR::10029354",
         "11.99094621348528",
         "0.0",
         "393.9216534203588"
        ],
        [
         "Gene::199974_ADR::10043269",
         "0.0",
         "0.0",
         "0.0"
        ],
        [
         "Gene::4311_ADR::10002424",
         "13.51507164217096",
         "7.029067612326127",
         "140.99577172233558"
        ],
        [
         "Gene::6532_ADR::10037400",
         "9.827520125010738",
         "0.0",
         "102.84127695222239"
        ],
        [
         "Gene::1132_ADR::10034010",
         "15.835811342503062",
         "0.0",
         "518.7027110280595"
        ],
        [
         "Gene::6403_ADR::10000891",
         "12.281349269446233",
         "0.0",
         "187.443431764293"
        ],
        [
         "Gene::1549_ADR::10019037",
         "0.0",
         "0.0",
         "39.89475851411298"
        ],
        [
         "Gene::1633_ADR::10028411",
         "0.0",
         "0.0",
         "164.146086423224"
        ],
        [
         "Gene::150_ADR::10003671",
         "12.206727035164493",
         "0.0",
         "411.73563567535774"
        ]
       ],
       "shape": {
        "columns": 3,
        "rows": 1996
       }
      },
      "text/html": [
       "<div>\n",
       "<style scoped>\n",
       "    .dataframe tbody tr th:only-of-type {\n",
       "        vertical-align: middle;\n",
       "    }\n",
       "\n",
       "    .dataframe tbody tr th {\n",
       "        vertical-align: top;\n",
       "    }\n",
       "\n",
       "    .dataframe thead th {\n",
       "        text-align: right;\n",
       "    }\n",
       "</style>\n",
       "<table border=\"1\" class=\"dataframe\">\n",
       "  <thead>\n",
       "    <tr style=\"text-align: right;\">\n",
       "      <th></th>\n",
       "      <th>(n_source:Gene)-[r1:Gene_Gene]-&gt;(n_1:Gene)-[r2:Gene_ADR]-(n_target:ADR)</th>\n",
       "      <th>(n_source:Gene)-[r1:Gene_Disease]-(n_1:Disease)-[r2:Disease_ADR]-(n_target:ADR)</th>\n",
       "      <th>(n_source:Gene)-[r1:Gene_Gene]-&gt;(n_1:Gene)-[r2:Gene_Gene]-&gt;(n_2:Gene)-[r3:Gene_ADR]-(n_target:ADR)</th>\n",
       "    </tr>\n",
       "  </thead>\n",
       "  <tbody>\n",
       "    <tr>\n",
       "      <th>Gene::5881_ADR::10030875</th>\n",
       "      <td>8.087178</td>\n",
       "      <td>0.0</td>\n",
       "      <td>150.569740</td>\n",
       "    </tr>\n",
       "    <tr>\n",
       "      <th>Gene::3815_ADR::10013971</th>\n",
       "      <td>0.000000</td>\n",
       "      <td>0.0</td>\n",
       "      <td>150.838375</td>\n",
       "    </tr>\n",
       "    <tr>\n",
       "      <th>Gene::5465_ADR::10016807</th>\n",
       "      <td>6.103364</td>\n",
       "      <td>0.0</td>\n",
       "      <td>202.810550</td>\n",
       "    </tr>\n",
       "    <tr>\n",
       "      <th>Gene::3274_ADR::10029282</th>\n",
       "      <td>12.736069</td>\n",
       "      <td>0.0</td>\n",
       "      <td>389.047268</td>\n",
       "    </tr>\n",
       "    <tr>\n",
       "      <th>Gene::4988_ADR::10047281</th>\n",
       "      <td>8.631459</td>\n",
       "      <td>0.0</td>\n",
       "      <td>322.758924</td>\n",
       "    </tr>\n",
       "    <tr>\n",
       "      <th>...</th>\n",
       "      <td>...</td>\n",
       "      <td>...</td>\n",
       "      <td>...</td>\n",
       "    </tr>\n",
       "    <tr>\n",
       "      <th>Gene::3363_ADR::10027304</th>\n",
       "      <td>0.000000</td>\n",
       "      <td>0.0</td>\n",
       "      <td>103.417169</td>\n",
       "    </tr>\n",
       "    <tr>\n",
       "      <th>Gene::2831_ADR::10038848</th>\n",
       "      <td>4.315730</td>\n",
       "      <td>0.0</td>\n",
       "      <td>146.441616</td>\n",
       "    </tr>\n",
       "    <tr>\n",
       "      <th>Gene::768_ADR::10000389</th>\n",
       "      <td>0.000000</td>\n",
       "      <td>0.0</td>\n",
       "      <td>28.563962</td>\n",
       "    </tr>\n",
       "    <tr>\n",
       "      <th>Gene::6530_ADR::10038678</th>\n",
       "      <td>14.930146</td>\n",
       "      <td>0.0</td>\n",
       "      <td>165.192505</td>\n",
       "    </tr>\n",
       "    <tr>\n",
       "      <th>Gene::112_ADR::10047302</th>\n",
       "      <td>18.754425</td>\n",
       "      <td>0.0</td>\n",
       "      <td>520.977083</td>\n",
       "    </tr>\n",
       "  </tbody>\n",
       "</table>\n",
       "<p>1996 rows × 3 columns</p>\n",
       "</div>"
      ],
      "text/plain": [
       "                          (n_source:Gene)-[r1:Gene_Gene]->(n_1:Gene)-[r2:Gene_ADR]-(n_target:ADR)  \\\n",
       "Gene::5881_ADR::10030875                                           8.087178                         \n",
       "Gene::3815_ADR::10013971                                           0.000000                         \n",
       "Gene::5465_ADR::10016807                                           6.103364                         \n",
       "Gene::3274_ADR::10029282                                          12.736069                         \n",
       "Gene::4988_ADR::10047281                                           8.631459                         \n",
       "...                                                                     ...                         \n",
       "Gene::3363_ADR::10027304                                           0.000000                         \n",
       "Gene::2831_ADR::10038848                                           4.315730                         \n",
       "Gene::768_ADR::10000389                                            0.000000                         \n",
       "Gene::6530_ADR::10038678                                          14.930146                         \n",
       "Gene::112_ADR::10047302                                           18.754425                         \n",
       "\n",
       "                          (n_source:Gene)-[r1:Gene_Disease]-(n_1:Disease)-[r2:Disease_ADR]-(n_target:ADR)  \\\n",
       "Gene::5881_ADR::10030875                                                0.0                                 \n",
       "Gene::3815_ADR::10013971                                                0.0                                 \n",
       "Gene::5465_ADR::10016807                                                0.0                                 \n",
       "Gene::3274_ADR::10029282                                                0.0                                 \n",
       "Gene::4988_ADR::10047281                                                0.0                                 \n",
       "...                                                                     ...                                 \n",
       "Gene::3363_ADR::10027304                                                0.0                                 \n",
       "Gene::2831_ADR::10038848                                                0.0                                 \n",
       "Gene::768_ADR::10000389                                                 0.0                                 \n",
       "Gene::6530_ADR::10038678                                                0.0                                 \n",
       "Gene::112_ADR::10047302                                                 0.0                                 \n",
       "\n",
       "                          (n_source:Gene)-[r1:Gene_Gene]->(n_1:Gene)-[r2:Gene_Gene]->(n_2:Gene)-[r3:Gene_ADR]-(n_target:ADR)  \n",
       "Gene::5881_ADR::10030875                                         150.569740                                                   \n",
       "Gene::3815_ADR::10013971                                         150.838375                                                   \n",
       "Gene::5465_ADR::10016807                                         202.810550                                                   \n",
       "Gene::3274_ADR::10029282                                         389.047268                                                   \n",
       "Gene::4988_ADR::10047281                                         322.758924                                                   \n",
       "...                                                                     ...                                                   \n",
       "Gene::3363_ADR::10027304                                         103.417169                                                   \n",
       "Gene::2831_ADR::10038848                                         146.441616                                                   \n",
       "Gene::768_ADR::10000389                                           28.563962                                                   \n",
       "Gene::6530_ADR::10038678                                         165.192505                                                   \n",
       "Gene::112_ADR::10047302                                          520.977083                                                   \n",
       "\n",
       "[1996 rows x 3 columns]"
      ]
     },
     "execution_count": 7,
     "metadata": {},
     "output_type": "execute_result"
    }
   ],
   "source": [
    "from inf import INFToolbox, Graph, query_templates_234, load_pickle\n",
    "\n",
    "toolbox = INFToolbox(Graph(\"bolt://localhost:7687\"), query_templates_234)\n",
    "toolbox.metapath_query_templates\n",
    "\n",
    "testv_reltype_counts_reindexed = load_pickle(\n",
    "    '/Users/terenceegbelo/Documents/PhD/Git/kg_sheffield/experiments/metapath_counts/TSA chapter 1/pickles/drkg_testv_reltype_counts_reindexed.pkl')\n",
    "\n",
    "testv_nodes_freq = load_pickle('/Users/terenceegbelo/Documents/PhD/Git/kg_sheffield/experiments/metapath_counts/TSA chapter 1/pickles/drkg_testv_nodes_freq_undir.pkl')\n",
    "\n",
    "test_ids = load_pickle('/Users/terenceegbelo/Documents/PhD/Git/kg_sheffield/experiments/metapath_counts/TSA chapter 1/pickles/test_all_drkg.pkl')\n",
    "\n",
    "test_feats = load_pickle('/Users/terenceegbelo/Documents/PhD/Git/kg_sheffield/experiments/metapath_counts/TSA chapter 1/pickles/feats_rn.pkl')\n",
    "\n",
    "trnsfrmd = toolbox.run_pipeline(test_ids, 'Gene', 'ADR', test_feats[:3], \n",
    "                            testv_nodes_freq, testv_reltype_counts_reindexed,\n",
    "                            [{'path_deflator_exp': 0.5,\n",
    "                              'inf_inflator': 'product',\n",
    "                              'inf_pooling': 'min'}])\n",
    "\n",
    "trnsfrmd[0]"
   ]
  },
  {
   "cell_type": "code",
   "execution_count": 2,
   "metadata": {},
   "outputs": [
    {
     "data": {
      "text/plain": [
       "'/Users/terenceegbelo/Documents/PhD/Git/kg_sheffield/experiments/metapath_counts/TSA chapter 1/metapaths_tests'"
      ]
     },
     "execution_count": 2,
     "metadata": {},
     "output_type": "execute_result"
    }
   ],
   "source": [
    "pwd"
   ]
  },
  {
   "cell_type": "code",
   "execution_count": null,
   "metadata": {},
   "outputs": [],
   "source": []
  }
 ],
 "metadata": {
  "kernelspec": {
   "display_name": "venv_metapaths",
   "language": "python",
   "name": "python3"
  },
  "language_info": {
   "codemirror_mode": {
    "name": "ipython",
    "version": 3
   },
   "file_extension": ".py",
   "mimetype": "text/x-python",
   "name": "python",
   "nbconvert_exporter": "python",
   "pygments_lexer": "ipython3",
   "version": "3.10.9"
  }
 },
 "nbformat": 4,
 "nbformat_minor": 2
}

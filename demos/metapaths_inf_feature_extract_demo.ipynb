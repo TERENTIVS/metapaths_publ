{
 "cells": [
  {
   "cell_type": "code",
   "execution_count": 1,
   "metadata": {},
   "outputs": [],
   "source": [
    "from metapaths.starterpack import load_pickle, cypher_triple_to_list, metapath_featset_gen\n",
    "from metapaths.inf import INFToolbox, query_templates_234, Graph"
   ]
  },
  {
   "cell_type": "code",
   "execution_count": 5,
   "metadata": {},
   "outputs": [
    {
     "name": "stdout",
     "output_type": "stream",
     "text": [
      "Connection to Neo4j server successful.\n"
     ]
    }
   ],
   "source": [
    "\n",
    "toolbox = INFToolbox(Graph('bolt://localhost:7687'), query_templates_234)\n",
    "\n",
    "if toolbox.check_graph_connection('localhost', 7687):\n",
    "\n",
    "    print('Connection to Neo4j server successful.')\n",
    "\n",
    "else:\n",
    "\n",
    "    print('Connection to Neo4j server failed.')"
   ]
  },
  {
   "cell_type": "code",
   "execution_count": 6,
   "metadata": {},
   "outputs": [],
   "source": [
    "\n",
    "toolbox.add_param_combos(\n",
    "    [\n",
    "    {}, # add empty INF parameter dict to extract raw metapath counts\n",
    "    {   # sample populated parameter dict:\n",
    "        'path_deflator_exp': 0.5,   # deflator exponent\n",
    "        'inf_inflator': 'product',  # pooled INF aggregation\n",
    "        'inf_pooling': 'min'        # within-relation INF pooling\n",
    "        }\n",
    "        ]\n",
    "        )\n",
    "\n",
    "_, reltype_counts_reindexed = toolbox.get_reltype_counts()"
   ]
  },
  {
   "cell_type": "code",
   "execution_count": 5,
   "metadata": {},
   "outputs": [
    {
     "data": {
      "application/vnd.microsoft.datawrangler.viewer.v0+json": {
       "columns": [
        {
         "name": "index",
         "rawType": "object",
         "type": "string"
        },
        {
         "name": "Gene_Gene",
         "rawType": "int64",
         "type": "integer"
        },
        {
         "name": "Gene_MolecularFunction",
         "rawType": "int64",
         "type": "integer"
        },
        {
         "name": "Gene_BiologicalProcess",
         "rawType": "int64",
         "type": "integer"
        },
        {
         "name": "Gene_Disease",
         "rawType": "int64",
         "type": "integer"
        },
        {
         "name": "Gene_CellularComponent",
         "rawType": "int64",
         "type": "integer"
        }
       ],
       "conversionMethod": "pd.DataFrame",
       "ref": "aa287019-1e6b-4608-9450-e2929fcfc666",
       "rows": [
        [
         "Count",
         "2088217",
         "96940",
         "558677",
         "86787",
         "73485"
        ]
       ],
       "shape": {
        "columns": 5,
        "rows": 1
       }
      },
      "text/html": [
       "<div>\n",
       "<style scoped>\n",
       "    .dataframe tbody tr th:only-of-type {\n",
       "        vertical-align: middle;\n",
       "    }\n",
       "\n",
       "    .dataframe tbody tr th {\n",
       "        vertical-align: top;\n",
       "    }\n",
       "\n",
       "    .dataframe thead th {\n",
       "        text-align: right;\n",
       "    }\n",
       "</style>\n",
       "<table border=\"1\" class=\"dataframe\">\n",
       "  <thead>\n",
       "    <tr style=\"text-align: right;\">\n",
       "      <th>Relation_type</th>\n",
       "      <th>Gene_Gene</th>\n",
       "      <th>Gene_MolecularFunction</th>\n",
       "      <th>Gene_BiologicalProcess</th>\n",
       "      <th>Gene_Disease</th>\n",
       "      <th>Gene_CellularComponent</th>\n",
       "    </tr>\n",
       "  </thead>\n",
       "  <tbody>\n",
       "    <tr>\n",
       "      <th>Count</th>\n",
       "      <td>2088217</td>\n",
       "      <td>96940</td>\n",
       "      <td>558677</td>\n",
       "      <td>86787</td>\n",
       "      <td>73485</td>\n",
       "    </tr>\n",
       "  </tbody>\n",
       "</table>\n",
       "</div>"
      ],
      "text/plain": [
       "Relation_type  Gene_Gene  Gene_MolecularFunction  Gene_BiologicalProcess  \\\n",
       "Count            2088217                   96940                  558677   \n",
       "\n",
       "Relation_type  Gene_Disease  Gene_CellularComponent  \n",
       "Count                 86787                   73485  "
      ]
     },
     "execution_count": 5,
     "metadata": {},
     "output_type": "execute_result"
    }
   ],
   "source": [
    "reltype_counts_reindexed.iloc[:,:5]"
   ]
  },
  {
   "cell_type": "code",
   "execution_count": 6,
   "metadata": {},
   "outputs": [
    {
     "data": {
      "text/plain": [
       "[['(:Gene)', '-[:Gene_Gene]->', '(:Gene)'],\n",
       " ['(:Gene)', '-[:Gene_Pathway]->', '(:Pathway)'],\n",
       " ['(:Pathway)', '<-[:Gene_Pathway]-', '(:Gene)'],\n",
       " ['(:Gene)', '-[:Gene_Compound]->', '(:Compound)'],\n",
       " ['(:Compound)', '<-[:Gene_Compound]-', '(:Gene)'],\n",
       " ['(:Gene)', '-[:Gene_Disease]->', '(:Disease)'],\n",
       " ['(:Disease)', '<-[:Gene_Disease]-', '(:Gene)']]"
      ]
     },
     "execution_count": 6,
     "metadata": {},
     "output_type": "execute_result"
    }
   ],
   "source": [
    "reltypes_cypher = ['(:Gene)-[:Gene_Gene]->(:Gene)',\n",
    "                   '(:Gene)-[:Gene_Pathway]->(:Pathway)',\n",
    "                   '(:Gene)-[:Gene_Compound]->(:Compound)',\n",
    "                   '(:Gene)-[:Gene_Disease]->(:Disease)']\n",
    "\n",
    "cypher_triple_to_list(reltypes_cypher)"
   ]
  },
  {
   "cell_type": "code",
   "execution_count": 7,
   "metadata": {},
   "outputs": [
    {
     "data": {
      "text/plain": [
       "['(n_source:Gene)-[r1:Gene_Gene]->(n_1:Gene)-[r2:Gene_Disease]->(n_target:Disease)',\n",
       " '(n_source:Gene)-[r1:Gene_Gene]->(n_1:Gene)-[r2:Gene_Gene]->(n_2:Gene)-[r3:Gene_Disease]->(n_target:Disease)',\n",
       " '(n_source:Gene)-[r1:Gene_Pathway]->(n_1:Pathway)<-[r2:Gene_Pathway]-(n_2:Gene)-[r3:Gene_Disease]->(n_target:Disease)',\n",
       " '(n_source:Gene)-[r1:Gene_Compound]->(n_1:Compound)<-[r2:Gene_Compound]-(n_2:Gene)-[r3:Gene_Disease]->(n_target:Disease)',\n",
       " '(n_source:Gene)-[r1:Gene_Disease]->(n_1:Disease)<-[r2:Gene_Disease]-(n_2:Gene)-[r3:Gene_Disease]->(n_target:Disease)']"
      ]
     },
     "execution_count": 7,
     "metadata": {},
     "output_type": "execute_result"
    }
   ],
   "source": [
    "triple_types = cypher_triple_to_list(reltypes_cypher)\n",
    "\n",
    "metapath_featset_gen('(:Gene)', '(:Disease)', triple_types, [2,3])"
   ]
  },
  {
   "cell_type": "code",
   "execution_count": 8,
   "metadata": {},
   "outputs": [],
   "source": [
    "metapaths = metapath_featset_gen('(:Gene)', '(:Disease)', triple_types, [2,3])"
   ]
  },
  {
   "cell_type": "code",
   "execution_count": 9,
   "metadata": {},
   "outputs": [
    {
     "data": {
      "application/vnd.microsoft.datawrangler.viewer.v0+json": {
       "columns": [
        {
         "name": "index",
         "rawType": "int64",
         "type": "integer"
        },
        {
         "name": "Gene",
         "rawType": "object",
         "type": "string"
        },
        {
         "name": "Disease",
         "rawType": "object",
         "type": "string"
        }
       ],
       "conversionMethod": "pd.DataFrame",
       "ref": "5802257c-6bb8-467c-8cbd-f636fde3b187",
       "rows": [
        [
         "0",
         "Gene::79727",
         "Disease::MESH:D009373"
        ],
        [
         "1",
         "Gene::7704",
         "Disease::MESH:D009373"
        ],
        [
         "2",
         "Gene::7422",
         "Disease::MESH:D009373"
        ],
        [
         "3",
         "Gene::6513",
         "Disease::MESH:D009373"
        ],
        [
         "4",
         "Gene::4254",
         "Disease::MESH:D009373"
        ]
       ],
       "shape": {
        "columns": 2,
        "rows": 5
       }
      },
      "text/html": [
       "<div>\n",
       "<style scoped>\n",
       "    .dataframe tbody tr th:only-of-type {\n",
       "        vertical-align: middle;\n",
       "    }\n",
       "\n",
       "    .dataframe tbody tr th {\n",
       "        vertical-align: top;\n",
       "    }\n",
       "\n",
       "    .dataframe thead th {\n",
       "        text-align: right;\n",
       "    }\n",
       "</style>\n",
       "<table border=\"1\" class=\"dataframe\">\n",
       "  <thead>\n",
       "    <tr style=\"text-align: right;\">\n",
       "      <th></th>\n",
       "      <th>Gene</th>\n",
       "      <th>Disease</th>\n",
       "    </tr>\n",
       "  </thead>\n",
       "  <tbody>\n",
       "    <tr>\n",
       "      <th>0</th>\n",
       "      <td>Gene::79727</td>\n",
       "      <td>Disease::MESH:D009373</td>\n",
       "    </tr>\n",
       "    <tr>\n",
       "      <th>1</th>\n",
       "      <td>Gene::7704</td>\n",
       "      <td>Disease::MESH:D009373</td>\n",
       "    </tr>\n",
       "    <tr>\n",
       "      <th>2</th>\n",
       "      <td>Gene::7422</td>\n",
       "      <td>Disease::MESH:D009373</td>\n",
       "    </tr>\n",
       "    <tr>\n",
       "      <th>3</th>\n",
       "      <td>Gene::6513</td>\n",
       "      <td>Disease::MESH:D009373</td>\n",
       "    </tr>\n",
       "    <tr>\n",
       "      <th>4</th>\n",
       "      <td>Gene::4254</td>\n",
       "      <td>Disease::MESH:D009373</td>\n",
       "    </tr>\n",
       "  </tbody>\n",
       "</table>\n",
       "</div>"
      ],
      "text/plain": [
       "          Gene                Disease\n",
       "0  Gene::79727  Disease::MESH:D009373\n",
       "1   Gene::7704  Disease::MESH:D009373\n",
       "2   Gene::7422  Disease::MESH:D009373\n",
       "3   Gene::6513  Disease::MESH:D009373\n",
       "4   Gene::4254  Disease::MESH:D009373"
      ]
     },
     "execution_count": 9,
     "metadata": {},
     "output_type": "execute_result"
    }
   ],
   "source": [
    "head_tail_pairs = load_pickle('gene_disease_neo4j_export.pkl')\n",
    "\n",
    "head_tail_pairs.head()"
   ]
  },
  {
   "cell_type": "code",
   "execution_count": 10,
   "metadata": {},
   "outputs": [
    {
     "name": "stdout",
     "output_type": "stream",
     "text": [
      "Processing (n_source:Gene)-[r1:Gene_Gene]->(n_1:Gene)-[r2:Gene_Disease]->(n_target:Disease)...\n"
     ]
    },
    {
     "name": "stderr",
     "output_type": "stream",
     "text": [
      "100%|██████████| 100/100 [00:23<00:00,  4.31it/s]\n"
     ]
    },
    {
     "name": "stdout",
     "output_type": "stream",
     "text": [
      "Processing (n_source:Gene)-[r1:Gene_Gene]->(n_1:Gene)-[r2:Gene_Gene]->(n_2:Gene)-[r3:Gene_Disease]->(n_target:Disease)...\n"
     ]
    },
    {
     "name": "stderr",
     "output_type": "stream",
     "text": [
      "100%|██████████| 100/100 [01:54<00:00,  1.15s/it]\n"
     ]
    },
    {
     "name": "stdout",
     "output_type": "stream",
     "text": [
      "Processing (n_source:Gene)-[r1:Gene_Pathway]->(n_1:Pathway)<-[r2:Gene_Pathway]-(n_2:Gene)-[r3:Gene_Disease]->(n_target:Disease)...\n"
     ]
    },
    {
     "name": "stderr",
     "output_type": "stream",
     "text": [
      "100%|██████████| 100/100 [00:23<00:00,  4.25it/s]\n"
     ]
    },
    {
     "name": "stdout",
     "output_type": "stream",
     "text": [
      "Processing (n_source:Gene)-[r1:Gene_Compound]->(n_1:Compound)<-[r2:Gene_Compound]-(n_2:Gene)-[r3:Gene_Disease]->(n_target:Disease)...\n"
     ]
    },
    {
     "name": "stderr",
     "output_type": "stream",
     "text": [
      "100%|██████████| 100/100 [00:29<00:00,  3.41it/s]\n"
     ]
    },
    {
     "name": "stdout",
     "output_type": "stream",
     "text": [
      "Processing (n_source:Gene)-[r1:Gene_Disease]->(n_1:Disease)<-[r2:Gene_Disease]-(n_2:Gene)-[r3:Gene_Disease]->(n_target:Disease)...\n"
     ]
    },
    {
     "name": "stderr",
     "output_type": "stream",
     "text": [
      "100%|██████████| 100/100 [00:08<00:00, 11.40it/s]\n",
      "100%|██████████| 5/5 [00:00<00:00, 14084.30it/s]\n",
      "100%|██████████| 5/5 [00:00<00:00, 2093.80it/s]\n"
     ]
    }
   ],
   "source": [
    "\n",
    "transformed_metapath_feats = toolbox.run_pipeline(head_tail_pairs, \n",
    "                                                  'Gene', 'Disease',\n",
    "                                                  metapaths,\n",
    "                                                  'name',\n",
    "                                                  reltype_counts_reindexed,\n",
    "                                                  toolbox.param_combos)"
   ]
  },
  {
   "cell_type": "code",
   "execution_count": 11,
   "metadata": {},
   "outputs": [
    {
     "data": {
      "application/vnd.microsoft.datawrangler.viewer.v0+json": {
       "columns": [
        {
         "name": "index",
         "rawType": "object",
         "type": "string"
        },
        {
         "name": "(n_source:Gene)-[r1:Gene_Gene]->(n_1:Gene)-[r2:Gene_Disease]->(n_target:Disease)",
         "rawType": "float64",
         "type": "float"
        },
        {
         "name": "(n_source:Gene)-[r1:Gene_Gene]->(n_1:Gene)-[r2:Gene_Gene]->(n_2:Gene)-[r3:Gene_Disease]->(n_target:Disease)",
         "rawType": "float64",
         "type": "float"
        },
        {
         "name": "(n_source:Gene)-[r1:Gene_Pathway]->(n_1:Pathway)<-[r2:Gene_Pathway]-(n_2:Gene)-[r3:Gene_Disease]->(n_target:Disease)",
         "rawType": "float64",
         "type": "float"
        },
        {
         "name": "(n_source:Gene)-[r1:Gene_Compound]->(n_1:Compound)<-[r2:Gene_Compound]-(n_2:Gene)-[r3:Gene_Disease]->(n_target:Disease)",
         "rawType": "float64",
         "type": "float"
        },
        {
         "name": "(n_source:Gene)-[r1:Gene_Disease]->(n_1:Disease)<-[r2:Gene_Disease]-(n_2:Gene)-[r3:Gene_Disease]->(n_target:Disease)",
         "rawType": "float64",
         "type": "float"
        }
       ],
       "conversionMethod": "pd.DataFrame",
       "ref": "dd00186c-21ae-4202-8ea1-a5dd8a666430",
       "rows": [
        [
         "Gene::79727_Disease::MESH:D009373",
         "11.0",
         "760.0",
         "21.0",
         "7.0",
         "182.0"
        ],
        [
         "Gene::7704_Disease::MESH:D009373",
         "0.0",
         "905.0",
         "16.0",
         "25.0",
         "192.0"
        ],
        [
         "Gene::7422_Disease::MESH:D009373",
         "12.0",
         "2172.0",
         "82.0",
         "620.0",
         "1196.0"
        ],
        [
         "Gene::6513_Disease::MESH:D009373",
         "0.0",
         "402.0",
         "41.0",
         "177.0",
         "655.0"
        ],
        [
         "Gene::4254_Disease::MESH:D009373",
         "8.0",
         "900.0",
         "163.0",
         "48.0",
         "458.0"
        ]
       ],
       "shape": {
        "columns": 5,
        "rows": 5
       }
      },
      "text/html": [
       "<div>\n",
       "<style scoped>\n",
       "    .dataframe tbody tr th:only-of-type {\n",
       "        vertical-align: middle;\n",
       "    }\n",
       "\n",
       "    .dataframe tbody tr th {\n",
       "        vertical-align: top;\n",
       "    }\n",
       "\n",
       "    .dataframe thead th {\n",
       "        text-align: right;\n",
       "    }\n",
       "</style>\n",
       "<table border=\"1\" class=\"dataframe\">\n",
       "  <thead>\n",
       "    <tr style=\"text-align: right;\">\n",
       "      <th></th>\n",
       "      <th>(n_source:Gene)-[r1:Gene_Gene]-&gt;(n_1:Gene)-[r2:Gene_Disease]-&gt;(n_target:Disease)</th>\n",
       "      <th>(n_source:Gene)-[r1:Gene_Gene]-&gt;(n_1:Gene)-[r2:Gene_Gene]-&gt;(n_2:Gene)-[r3:Gene_Disease]-&gt;(n_target:Disease)</th>\n",
       "      <th>(n_source:Gene)-[r1:Gene_Pathway]-&gt;(n_1:Pathway)&lt;-[r2:Gene_Pathway]-(n_2:Gene)-[r3:Gene_Disease]-&gt;(n_target:Disease)</th>\n",
       "      <th>(n_source:Gene)-[r1:Gene_Compound]-&gt;(n_1:Compound)&lt;-[r2:Gene_Compound]-(n_2:Gene)-[r3:Gene_Disease]-&gt;(n_target:Disease)</th>\n",
       "      <th>(n_source:Gene)-[r1:Gene_Disease]-&gt;(n_1:Disease)&lt;-[r2:Gene_Disease]-(n_2:Gene)-[r3:Gene_Disease]-&gt;(n_target:Disease)</th>\n",
       "    </tr>\n",
       "  </thead>\n",
       "  <tbody>\n",
       "    <tr>\n",
       "      <th>Gene::79727_Disease::MESH:D009373</th>\n",
       "      <td>11.0</td>\n",
       "      <td>760.0</td>\n",
       "      <td>21.0</td>\n",
       "      <td>7.0</td>\n",
       "      <td>182.0</td>\n",
       "    </tr>\n",
       "    <tr>\n",
       "      <th>Gene::7704_Disease::MESH:D009373</th>\n",
       "      <td>0.0</td>\n",
       "      <td>905.0</td>\n",
       "      <td>16.0</td>\n",
       "      <td>25.0</td>\n",
       "      <td>192.0</td>\n",
       "    </tr>\n",
       "    <tr>\n",
       "      <th>Gene::7422_Disease::MESH:D009373</th>\n",
       "      <td>12.0</td>\n",
       "      <td>2172.0</td>\n",
       "      <td>82.0</td>\n",
       "      <td>620.0</td>\n",
       "      <td>1196.0</td>\n",
       "    </tr>\n",
       "    <tr>\n",
       "      <th>Gene::6513_Disease::MESH:D009373</th>\n",
       "      <td>0.0</td>\n",
       "      <td>402.0</td>\n",
       "      <td>41.0</td>\n",
       "      <td>177.0</td>\n",
       "      <td>655.0</td>\n",
       "    </tr>\n",
       "    <tr>\n",
       "      <th>Gene::4254_Disease::MESH:D009373</th>\n",
       "      <td>8.0</td>\n",
       "      <td>900.0</td>\n",
       "      <td>163.0</td>\n",
       "      <td>48.0</td>\n",
       "      <td>458.0</td>\n",
       "    </tr>\n",
       "  </tbody>\n",
       "</table>\n",
       "</div>"
      ],
      "text/plain": [
       "                                   (n_source:Gene)-[r1:Gene_Gene]->(n_1:Gene)-[r2:Gene_Disease]->(n_target:Disease)  \\\n",
       "Gene::79727_Disease::MESH:D009373                                               11.0                                  \n",
       "Gene::7704_Disease::MESH:D009373                                                 0.0                                  \n",
       "Gene::7422_Disease::MESH:D009373                                                12.0                                  \n",
       "Gene::6513_Disease::MESH:D009373                                                 0.0                                  \n",
       "Gene::4254_Disease::MESH:D009373                                                 8.0                                  \n",
       "\n",
       "                                   (n_source:Gene)-[r1:Gene_Gene]->(n_1:Gene)-[r2:Gene_Gene]->(n_2:Gene)-[r3:Gene_Disease]->(n_target:Disease)  \\\n",
       "Gene::79727_Disease::MESH:D009373                                              760.0                                                             \n",
       "Gene::7704_Disease::MESH:D009373                                               905.0                                                             \n",
       "Gene::7422_Disease::MESH:D009373                                              2172.0                                                             \n",
       "Gene::6513_Disease::MESH:D009373                                               402.0                                                             \n",
       "Gene::4254_Disease::MESH:D009373                                               900.0                                                             \n",
       "\n",
       "                                   (n_source:Gene)-[r1:Gene_Pathway]->(n_1:Pathway)<-[r2:Gene_Pathway]-(n_2:Gene)-[r3:Gene_Disease]->(n_target:Disease)  \\\n",
       "Gene::79727_Disease::MESH:D009373                                               21.0                                                                      \n",
       "Gene::7704_Disease::MESH:D009373                                                16.0                                                                      \n",
       "Gene::7422_Disease::MESH:D009373                                                82.0                                                                      \n",
       "Gene::6513_Disease::MESH:D009373                                                41.0                                                                      \n",
       "Gene::4254_Disease::MESH:D009373                                               163.0                                                                      \n",
       "\n",
       "                                   (n_source:Gene)-[r1:Gene_Compound]->(n_1:Compound)<-[r2:Gene_Compound]-(n_2:Gene)-[r3:Gene_Disease]->(n_target:Disease)  \\\n",
       "Gene::79727_Disease::MESH:D009373                                                7.0                                                                         \n",
       "Gene::7704_Disease::MESH:D009373                                                25.0                                                                         \n",
       "Gene::7422_Disease::MESH:D009373                                               620.0                                                                         \n",
       "Gene::6513_Disease::MESH:D009373                                               177.0                                                                         \n",
       "Gene::4254_Disease::MESH:D009373                                                48.0                                                                         \n",
       "\n",
       "                                   (n_source:Gene)-[r1:Gene_Disease]->(n_1:Disease)<-[r2:Gene_Disease]-(n_2:Gene)-[r3:Gene_Disease]->(n_target:Disease)  \n",
       "Gene::79727_Disease::MESH:D009373                                              182.0                                                                     \n",
       "Gene::7704_Disease::MESH:D009373                                               192.0                                                                     \n",
       "Gene::7422_Disease::MESH:D009373                                              1196.0                                                                     \n",
       "Gene::6513_Disease::MESH:D009373                                               655.0                                                                     \n",
       "Gene::4254_Disease::MESH:D009373                                               458.0                                                                     "
      ]
     },
     "execution_count": 11,
     "metadata": {},
     "output_type": "execute_result"
    }
   ],
   "source": [
    "transformed_metapath_feats[0].head() # raw metapath counts from empty INF parameter dict"
   ]
  },
  {
   "cell_type": "code",
   "execution_count": 12,
   "metadata": {},
   "outputs": [
    {
     "data": {
      "application/vnd.microsoft.datawrangler.viewer.v0+json": {
       "columns": [
        {
         "name": "index",
         "rawType": "object",
         "type": "string"
        },
        {
         "name": "(n_source:Gene)-[r1:Gene_Gene]->(n_1:Gene)-[r2:Gene_Disease]->(n_target:Disease)",
         "rawType": "float64",
         "type": "float"
        },
        {
         "name": "(n_source:Gene)-[r1:Gene_Gene]->(n_1:Gene)-[r2:Gene_Gene]->(n_2:Gene)-[r3:Gene_Disease]->(n_target:Disease)",
         "rawType": "float64",
         "type": "float"
        },
        {
         "name": "(n_source:Gene)-[r1:Gene_Pathway]->(n_1:Pathway)<-[r2:Gene_Pathway]-(n_2:Gene)-[r3:Gene_Disease]->(n_target:Disease)",
         "rawType": "float64",
         "type": "float"
        },
        {
         "name": "(n_source:Gene)-[r1:Gene_Compound]->(n_1:Compound)<-[r2:Gene_Compound]-(n_2:Gene)-[r3:Gene_Disease]->(n_target:Disease)",
         "rawType": "float64",
         "type": "float"
        },
        {
         "name": "(n_source:Gene)-[r1:Gene_Disease]->(n_1:Disease)<-[r2:Gene_Disease]-(n_2:Gene)-[r3:Gene_Disease]->(n_target:Disease)",
         "rawType": "float64",
         "type": "float"
        }
       ],
       "conversionMethod": "pd.DataFrame",
       "ref": "bc1aa0ed-0aae-4db7-b254-1b21385e20c1",
       "rows": [
        [
         "Gene::79727_Disease::MESH:D009373",
         "22.682465304001028",
         "486.7214955231874",
         "55.819267167206235",
         "40.378323351264804",
         "85.94847723191074"
        ],
        [
         "Gene::7704_Disease::MESH:D009373",
         "0.0",
         "502.3151652342632",
         "37.82190128162411",
         "64.27481009775187",
         "94.89585235190283"
        ],
        [
         "Gene::7422_Disease::MESH:D009373",
         "23.691062348501664",
         "765.0898768471388",
         "59.018996572966294",
         "312.150344541587",
         "162.68770591494624"
        ],
        [
         "Gene::6513_Disease::MESH:D009373",
         "0.0",
         "334.7842566451341",
         "46.822719824930495",
         "166.78408514016232",
         "120.395372653392"
        ],
        [
         "Gene::4254_Disease::MESH:D009373",
         "19.94442856152316",
         "591.209358292436",
         "83.21060841331914",
         "94.00503005219737",
         "100.67505703509532"
        ]
       ],
       "shape": {
        "columns": 5,
        "rows": 5
       }
      },
      "text/html": [
       "<div>\n",
       "<style scoped>\n",
       "    .dataframe tbody tr th:only-of-type {\n",
       "        vertical-align: middle;\n",
       "    }\n",
       "\n",
       "    .dataframe tbody tr th {\n",
       "        vertical-align: top;\n",
       "    }\n",
       "\n",
       "    .dataframe thead th {\n",
       "        text-align: right;\n",
       "    }\n",
       "</style>\n",
       "<table border=\"1\" class=\"dataframe\">\n",
       "  <thead>\n",
       "    <tr style=\"text-align: right;\">\n",
       "      <th></th>\n",
       "      <th>(n_source:Gene)-[r1:Gene_Gene]-&gt;(n_1:Gene)-[r2:Gene_Disease]-&gt;(n_target:Disease)</th>\n",
       "      <th>(n_source:Gene)-[r1:Gene_Gene]-&gt;(n_1:Gene)-[r2:Gene_Gene]-&gt;(n_2:Gene)-[r3:Gene_Disease]-&gt;(n_target:Disease)</th>\n",
       "      <th>(n_source:Gene)-[r1:Gene_Pathway]-&gt;(n_1:Pathway)&lt;-[r2:Gene_Pathway]-(n_2:Gene)-[r3:Gene_Disease]-&gt;(n_target:Disease)</th>\n",
       "      <th>(n_source:Gene)-[r1:Gene_Compound]-&gt;(n_1:Compound)&lt;-[r2:Gene_Compound]-(n_2:Gene)-[r3:Gene_Disease]-&gt;(n_target:Disease)</th>\n",
       "      <th>(n_source:Gene)-[r1:Gene_Disease]-&gt;(n_1:Disease)&lt;-[r2:Gene_Disease]-(n_2:Gene)-[r3:Gene_Disease]-&gt;(n_target:Disease)</th>\n",
       "    </tr>\n",
       "  </thead>\n",
       "  <tbody>\n",
       "    <tr>\n",
       "      <th>Gene::79727_Disease::MESH:D009373</th>\n",
       "      <td>22.682465</td>\n",
       "      <td>486.721496</td>\n",
       "      <td>55.819267</td>\n",
       "      <td>40.378323</td>\n",
       "      <td>85.948477</td>\n",
       "    </tr>\n",
       "    <tr>\n",
       "      <th>Gene::7704_Disease::MESH:D009373</th>\n",
       "      <td>0.000000</td>\n",
       "      <td>502.315165</td>\n",
       "      <td>37.821901</td>\n",
       "      <td>64.274810</td>\n",
       "      <td>94.895852</td>\n",
       "    </tr>\n",
       "    <tr>\n",
       "      <th>Gene::7422_Disease::MESH:D009373</th>\n",
       "      <td>23.691062</td>\n",
       "      <td>765.089877</td>\n",
       "      <td>59.018997</td>\n",
       "      <td>312.150345</td>\n",
       "      <td>162.687706</td>\n",
       "    </tr>\n",
       "    <tr>\n",
       "      <th>Gene::6513_Disease::MESH:D009373</th>\n",
       "      <td>0.000000</td>\n",
       "      <td>334.784257</td>\n",
       "      <td>46.822720</td>\n",
       "      <td>166.784085</td>\n",
       "      <td>120.395373</td>\n",
       "    </tr>\n",
       "    <tr>\n",
       "      <th>Gene::4254_Disease::MESH:D009373</th>\n",
       "      <td>19.944429</td>\n",
       "      <td>591.209358</td>\n",
       "      <td>83.210608</td>\n",
       "      <td>94.005030</td>\n",
       "      <td>100.675057</td>\n",
       "    </tr>\n",
       "  </tbody>\n",
       "</table>\n",
       "</div>"
      ],
      "text/plain": [
       "                                   (n_source:Gene)-[r1:Gene_Gene]->(n_1:Gene)-[r2:Gene_Disease]->(n_target:Disease)  \\\n",
       "Gene::79727_Disease::MESH:D009373                                          22.682465                                  \n",
       "Gene::7704_Disease::MESH:D009373                                            0.000000                                  \n",
       "Gene::7422_Disease::MESH:D009373                                           23.691062                                  \n",
       "Gene::6513_Disease::MESH:D009373                                            0.000000                                  \n",
       "Gene::4254_Disease::MESH:D009373                                           19.944429                                  \n",
       "\n",
       "                                   (n_source:Gene)-[r1:Gene_Gene]->(n_1:Gene)-[r2:Gene_Gene]->(n_2:Gene)-[r3:Gene_Disease]->(n_target:Disease)  \\\n",
       "Gene::79727_Disease::MESH:D009373                                         486.721496                                                             \n",
       "Gene::7704_Disease::MESH:D009373                                          502.315165                                                             \n",
       "Gene::7422_Disease::MESH:D009373                                          765.089877                                                             \n",
       "Gene::6513_Disease::MESH:D009373                                          334.784257                                                             \n",
       "Gene::4254_Disease::MESH:D009373                                          591.209358                                                             \n",
       "\n",
       "                                   (n_source:Gene)-[r1:Gene_Pathway]->(n_1:Pathway)<-[r2:Gene_Pathway]-(n_2:Gene)-[r3:Gene_Disease]->(n_target:Disease)  \\\n",
       "Gene::79727_Disease::MESH:D009373                                          55.819267                                                                      \n",
       "Gene::7704_Disease::MESH:D009373                                           37.821901                                                                      \n",
       "Gene::7422_Disease::MESH:D009373                                           59.018997                                                                      \n",
       "Gene::6513_Disease::MESH:D009373                                           46.822720                                                                      \n",
       "Gene::4254_Disease::MESH:D009373                                           83.210608                                                                      \n",
       "\n",
       "                                   (n_source:Gene)-[r1:Gene_Compound]->(n_1:Compound)<-[r2:Gene_Compound]-(n_2:Gene)-[r3:Gene_Disease]->(n_target:Disease)  \\\n",
       "Gene::79727_Disease::MESH:D009373                                          40.378323                                                                         \n",
       "Gene::7704_Disease::MESH:D009373                                           64.274810                                                                         \n",
       "Gene::7422_Disease::MESH:D009373                                          312.150345                                                                         \n",
       "Gene::6513_Disease::MESH:D009373                                          166.784085                                                                         \n",
       "Gene::4254_Disease::MESH:D009373                                           94.005030                                                                         \n",
       "\n",
       "                                   (n_source:Gene)-[r1:Gene_Disease]->(n_1:Disease)<-[r2:Gene_Disease]-(n_2:Gene)-[r3:Gene_Disease]->(n_target:Disease)  \n",
       "Gene::79727_Disease::MESH:D009373                                          85.948477                                                                     \n",
       "Gene::7704_Disease::MESH:D009373                                           94.895852                                                                     \n",
       "Gene::7422_Disease::MESH:D009373                                          162.687706                                                                     \n",
       "Gene::6513_Disease::MESH:D009373                                          120.395373                                                                     \n",
       "Gene::4254_Disease::MESH:D009373                                          100.675057                                                                     "
      ]
     },
     "execution_count": 12,
     "metadata": {},
     "output_type": "execute_result"
    }
   ],
   "source": [
    "transformed_metapath_feats[1].head() # INF transformation of metapath counts according to sample populated parameter dict"
   ]
  }
 ],
 "metadata": {
  "kernelspec": {
   "display_name": ".venv_metapaths_dev",
   "language": "python",
   "name": "python3"
  },
  "language_info": {
   "codemirror_mode": {
    "name": "ipython",
    "version": 3
   },
   "file_extension": ".py",
   "mimetype": "text/x-python",
   "name": "python",
   "nbconvert_exporter": "python",
   "pygments_lexer": "ipython3",
   "version": "3.10.9"
  }
 },
 "nbformat": 4,
 "nbformat_minor": 2
}
